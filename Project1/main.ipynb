{
 "cells": [
  {
   "cell_type": "code",
   "execution_count": null,
   "metadata": {},
   "outputs": [],
   "source": [
    "from linked_deque import LinkedDeque\n",
    "from ledger_entry import LedgerEntry\n",
    "from stock_ledger import Stock_Ledger\n",
    "from stock_purchase import StockPurchase\n",
    "\n",
    "\n",
    "# Main and testing class implementation\n",
    "class Main:\n",
    "    def main():\n",
    "        stock_ledger = Stock_Ledger()\n",
    "\n",
    "        stock_ledger.buy(\"AAPL\", 20, 45)\n",
    "        stock_ledger.buy(\"AAPL\", 20, 75)\n",
    "        stock_ledger.buy(\"MSFT\", 20, 95)\n",
    "        stock_ledger.display_ledger()\n",
    "\n",
    "        stock_ledger.sell(\"AAPL\", 30, 65)\n",
    "        stock_ledger.display_ledger()\n",
    "        stock_ledger.sell(\"AAPL\", 10, 65)\n",
    "        stock_ledger.display_ledger()\n",
    "\n",
    "        stock_ledger.buy(\"AAPL\", 100, 20)\n",
    "        stock_ledger.buy(\"AAPL\", 20, 24)\n",
    "        stock_ledger.buy(\"TSLA\", 200, 36)\n",
    "        stock_ledger.display_ledger()\n",
    "\n",
    "        stock_ledger.sell(\"AAPL\", 10, 65)\n",
    "        stock_ledger.display_ledger()\n",
    "        stock_ledger.sell(\"TSLA\", 150, 30)\n",
    "        stock_ledger.display_ledger()\n",
    "\n",
    "        stock_ledger.buy(\"MSFT\", 5, 60)\n",
    "        stock_ledger.buy(\"MSFT\", 5, 70)\n",
    "        stock_ledger.display_ledger()\n",
    "\n",
    "        stock_ledger.sell(\"MSFT\", 4, 30)\n",
    "        stock_ledger.display_ledger()\n",
    "        stock_ledger.sell(\"MSFT\", 2, 30)\n",
    "        stock_ledger.display_ledger()\n",
    "\n",
    "        # Extra Credit\n",
    "\n",
    "    if __name__ == \"__main__\":\n",
    "        main()"
   ]
  }
 ],
 "metadata": {
  "language_info": {
   "name": "python"
  }
 },
 "nbformat": 4,
 "nbformat_minor": 2
}
